{
  "cells": [
    {
      "metadata": {
        "_uuid": "8f2839f25d086af736a60e9eeb907d3b93b6e0e5",
        "_cell_guid": "b1076dfc-b9ad-4769-8c92-a6c4dae69d19",
        "trusted": true,
        "collapsed": true
      },
      "cell_type": "code",
      "source": "import numpy as np \nimport pandas as pd\nimport matplotlib.pyplot as plt\nfrom matplotlib import path\nfrom sklearn.metrics import mean_squared_error, explained_variance_score\nfrom sklearn.preprocessing import StandardScaler\nfrom sklearn.linear_model import LinearRegression\nfrom sklearn.model_selection import train_test_split\nimport seaborn as sns\n\n\nimport os\nprint(os.listdir(\"../input\"))\n\n# read data in pandas dataframe\n# df_train =  pd.read_csv('../input/train.csv', nrows = 150000, parse_dates=[\"pickup_datetime\"])\ndf_train =  pd.read_csv('../input/train.csv', nrows = 50000, parse_dates=[\"pickup_datetime\"])\nprint(len(df_train))\nprint(df_train.dtypes)\ndf_train.head()",
      "execution_count": null,
      "outputs": []
    },
    {
      "metadata": {
        "_uuid": "342ac76f833c23b66999ecc87f60bed046a7c72a"
      },
      "cell_type": "markdown",
      "source": "**Data Cleaning**"
    },
    {
      "metadata": {
        "trusted": true,
        "scrolled": true,
        "_uuid": "2acc5f03d1e43305a80bc2ac4ee52ba93023bb76",
        "collapsed": true
      },
      "cell_type": "code",
      "source": "# check and drop the missing values\nprint(df_train.isnull().sum())\ndf_train = df_train.dropna(how = 'any', axis = 'rows')",
      "execution_count": null,
      "outputs": []
    },
    {
      "metadata": {
        "trusted": true,
        "_uuid": "487007bd0652ef3da6b5dbaa4cd47b84eea6a7f5",
        "collapsed": true
      },
      "cell_type": "code",
      "source": "# check for outliers in fare_amount \ndf_train[\"fare_amount\"].hist(bins=100)\nplt.xlabel('fare $USD')\nplt.ylabel('frequency')\nplt.title('fare_amount distribution')\n\nprint(df_train[\"fare_amount\"].describe())\n\n# the minimal fare_amount is negative, which is not realistic, so drop them\ndf_train = df_train[df_train.fare_amount>=0]",
      "execution_count": null,
      "outputs": []
    },
    {
      "metadata": {
        "trusted": true,
        "_uuid": "dd24b286a8f9bc4f95678852b37863ab32ee0aac",
        "collapsed": true
      },
      "cell_type": "code",
      "source": "# check for outliers in passenger_count \ndf_train[\"passenger_count\"].hist(bins=100, figsize=(14,3))\nplt.xlabel('fare $USD')\nplt.ylabel('frequency')\nplt.title('passenger_count distribution')\n\nprint(df_train[\"passenger_count\"].describe())\n\n# passenger_count of zero or larger than 6 (a SUV cab) seems to be not realistic, so drop them\ndf_train = df_train[(df_train['passenger_count']>0) & (df_train['passenger_count']<=6)]",
      "execution_count": null,
      "outputs": []
    },
    {
      "metadata": {
        "trusted": true,
        "_uuid": "73ecad323e129c5440154fc7b0c4391c65554f94",
        "collapsed": true
      },
      "cell_type": "code",
      "source": "# Googling latitudes and longitudes give such information\n# Latitudes range from -90 to 90.\n# Longitudes range from -180 to 180.\nprint(df_train['pickup_latitude'].describe())\nprint(df_train['pickup_longitude'].describe())\nprint(df_train['dropoff_latitude'].describe())\nprint(df_train['dropoff_longitude'].describe())\n\n# it shows some data errors in latitude and longitude,\n# including outliers and wrong order when inserted latitude and longitude into dataset\n# by using Google map, the latitude and longitude coordinate of New York City is:\nnyc = (40.730610, -73.935242)\n\n# so drop trips that are out of New York City and its nearby areas\ndef city_nearby_areas(df, city):\n    return (df['pickup_longitude'] >= city[1]-1.5) & (df['pickup_longitude'] <= city[1]+1.5) & \\\n           (df['pickup_latitude'] >= city[0]-1.5) & (df['pickup_latitude'] <= city[0]+1.5) & \\\n           (df['dropoff_longitude'] >= city[1]-1.5) & (df['dropoff_longitude'] <= city[1]+1.5) & \\\n           (df['dropoff_latitude'] >= city[0]-1.5) & (df['dropoff_latitude'] <= city[0]+1.5)\n\ndf_train = df_train[city_nearby_areas(df_train, nyc)]\nprint(len(df_train))",
      "execution_count": null,
      "outputs": []
    },
    {
      "metadata": {
        "trusted": true,
        "collapsed": true,
        "_uuid": "928ede89f3de6fd250c1146699a148aa75d36a5f"
      },
      "cell_type": "code",
      "source": "# a function to calculate distance between two latitude longitude points.\n# this function is based on https://stackoverflow.com/questions/27928/\ndef distance(lat1, lon1, lat2, lon2):\n    p = 0.017453292519943295 # Pi/180\n    a = 0.5 - np.cos((lat2 - lat1) * p)/2 + np.cos(lat1 * p) * np.cos(lat2 * p) * (1 - np.cos((lon2 - lon1) * p)) / 2\n    return 12742 * np.arcsin(np.sqrt(a)) # 2*R*asin...\n\n# calculate the distance in kilometers between pickup and dropoff postion of each trip \ndf_train['distance_km'] = df_train.apply(lambda x: distance(x[\"pickup_latitude\"], x[\"pickup_longitude\"], \\\n                                   x[\"dropoff_latitude\"], x[\"dropoff_longitude\"]), axis=1)",
      "execution_count": null,
      "outputs": []
    },
    {
      "metadata": {
        "trusted": true,
        "_uuid": "e7d53bd6e9beb1461b2dc0b3402fb371ff214add",
        "collapsed": true
      },
      "cell_type": "code",
      "source": "# check for outliers in distance_km \nprint(df_train[\"distance_km\"].describe())\n\nplt.scatter(df_train[\"distance_km\"], df_train[\"fare_amount\"], alpha=0.2)\nplt.xlabel('distance in kilometers')\nplt.ylabel('fare $USD')\nplt.title('distance vs. fare')\n\n# the plot shows there are trips with zero distance but with a non-zero fare\n# drop trips with zero distance\ndf_train = df_train[df_train[\"distance_km\"] >= 0.1]\nprint(len(df_train))\n\n# the plot also shows long trips but with low fare, just leave them now and I will analyze them later\n# df_train[df_train.fare_amount > 50]",
      "execution_count": null,
      "outputs": []
    },
    {
      "metadata": {
        "trusted": true,
        "_uuid": "1372b476b379ec42ea84f17e4add9425097ac3e7",
        "scrolled": true,
        "collapsed": true
      },
      "cell_type": "code",
      "source": "plt.scatter(df_train[\"pickup_longitude\"], df_train[\"pickup_latitude\"], alpha=0.2)\nplt.xlim(nyc[1]-0.1, nyc[1])\nplt.ylim(nyc[0]-0.05, nyc[0]+0.05)\nplt.xlabel('pickup_longitude')\nplt.ylabel('pickup_latitude')\nplt.title('pickup positions')\n\n# df_train = df_train[(df_train[\"distance_km\"] < 80)]",
      "execution_count": null,
      "outputs": []
    },
    {
      "metadata": {
        "_uuid": "aa06c659ee7d47c655fcbf28ba6169b5decb29a1"
      },
      "cell_type": "markdown",
      "source": ""
    },
    {
      "metadata": {
        "trusted": true,
        "_uuid": "d7a8f54fcf835ea7181c80d9e25f848aa5294af9",
        "collapsed": true
      },
      "cell_type": "code",
      "source": "# Airport trip to/from JFK and any location in Manhattan is a flat fare\n# Airport trip from JFK to other New York City destinations is a metered fare\n# Airport trip to Newark Liberty International Airport is a metered fare with a Newark Surchargeand \n# Airport trip to LaGuardia Airport is a metered fare\n\n# find if a point is in the Manhattan area\n# roughly divide Manhattan to three parts to simplify calculation\nManhattan_A = [(40.706476, -74.025303), (40.700178, -74.005985), (40.714462, -73.975092), (40.725429, -74.023245)]\nManhattan_B = [(40.725429, -74.023245), (40.714462, -73.975092), (40.796551, -73.914160), (40.819727, -73.964973)]\nManhattan_C = [(40.819727, -73.964973), (40.804786, -73.930812), (40.834324, -73.934135), (40.839926, -73.949915)]\nManhattan_D = [(40.839926, -73.949915), (40.834324, -73.934135), (40.872095, -73.909464), (40.879273, -73.930286)]\n\ndef in_area(area, place):\n    p = path.Path(area)\n    res = p.contains_point(place)\n    return res\n\ndef in_Manhattan(place):\n    res = in_area(Manhattan_A, place) or in_area(Manhattan_B, place) \\\n          or in_area(Manhattan_C, place) or in_area(Manhattan_D, place) \n    return res\n\nin_Manhattan([40.692343, -73.999933])\n\n# Find if the dropoff place is an airport, and using one-hot encoding to represent this.\n\n# jfk = (40.6413, -73.7781)\n# ewr = (40.6895, -74.1745)\n\n# def to_airport(lat1, lon1):\n#     if distance(lat1, lon1, jfk[0], jfk[1]) <=3:\n#         return \"airport_jfk\"\n#     elif distance(lat1, lon1, ewr[0], ewr[1]) <=3:\n#         return \"airport_ewr\"\n#     elif distance(lat1, lon1, lgr[1], lgr[0]) <=3:\n#         return \"airport_lgr\"\n#     return \"not_airport\"\n\n# df_train[\"airport\"] = df_train.apply(lambda x: to_airport(x[\"dropoff_latitude\"], x[\"dropoff_longitude\"]), axis=1)\n",
      "execution_count": null,
      "outputs": []
    },
    {
      "metadata": {
        "trusted": true,
        "_uuid": "5a02b758e5d88bfdcf83580f2abcc13541f7e88f",
        "collapsed": true
      },
      "cell_type": "code",
      "source": "# def airport_fare(airport):\n#     df_airport = df_train[df_train[\"airport\"] == airport]\n#     airport_top_fare = df_airport.groupby('fare_amount')['fare_amount'].count() \\\n#                                                       .reset_index(name='count') \\\n#                                                       .sort_values(['count'], ascending=False) \\\n#                                                       .head(5)\n#     weighted_average_fare = (airport_top_fare[\"fare_amount\"] * airport_top_fare[\"count\"]).sum() / airport_top_fare[\"count\"].sum()\n#     print(airport_top_fare)\n#     return weighted_average_fare\n\n# jfk_fare = airport_fare(\"airport_jfk\").round(decimals = 2)\n# ewr_fare = airport_fare(\"airport_ewr\").round(decimals = 2)\n# lgr_fare = airport_fare(\"airport_lgr\").round(decimals = 2)\n# print(jfk_fare, ewr_fare, lgr_fare)",
      "execution_count": null,
      "outputs": []
    },
    {
      "metadata": {
        "trusted": true,
        "_uuid": "0659f4daf5e1533f8a3b91f7cec1746bf799c05f",
        "collapsed": true
      },
      "cell_type": "code",
      "source": "# df_airport = pd.get_dummies(df_train[\"airport\"])\n# df_train = df_train.join(df_airport)",
      "execution_count": null,
      "outputs": []
    },
    {
      "metadata": {
        "trusted": true,
        "collapsed": true,
        "_uuid": "3ac3b7a10cc55b6047d307e5e770bebe6e2feef9"
      },
      "cell_type": "markdown",
      "source": "**Extract Hour and Day From pickup_datetime**\n\nFare at night is different from day time.\n\nThe amount of traffic depends on the hour of the day, and it determines the duration of the trip and thus the fare. "
    },
    {
      "metadata": {
        "trusted": true,
        "_uuid": "96178f18ceca6ed0e68de029cacaaff021f6f76c",
        "collapsed": true
      },
      "cell_type": "code",
      "source": "# df_train['hour'] = df_train[\"pickup_datetime\"].apply(lambda t: t.hour)\n# df_train['year'] = df_train[\"pickup_datetime\"].apply(lambda t: t.year-2009)\n# df_train[\"day_of_week\"] = df_train[\"pickup_datetime\"].apply(lambda t: t.weekday())\n\n\ndef hour_type(hour):\n    if hour in list(range(20, 25)) + list(range(0,7)):\n        return \"night\"\n    elif hour in range(7, 10):\n        return \"morning_peak\"\n    elif hour in range(16, 20):\n        return \"afternoon_peak\"\n    else:\n        return \"normal_hour\"\n\ndef extract_time(record):\n    record['hour'] = record[\"pickup_datetime\"].hour\n    record['year'] = record[\"pickup_datetime\"].year\n    record[\"day_of_week\"] = record[\"pickup_datetime\"].weekday()\n    record[\"weekday\"] = 1 if record[\"day_of_week\"] in range(0, 5) else 0\n    record[\"hour_type\"] = hour_type(record[\"hour\"])\n    return record\n\ndf_train = df_train.apply(lambda r: extract_time(r), axis=1)\n\ndf_hour_type = pd.get_dummies(df_train[\"hour_type\"])\ndf_train = df_train.join(df_hour_type)\n\n# Another method to find the day of week \n# day_of_week = pd.to_datetime(df_train[\"pickup_datetime\"]).dt.weekday_name\n# or\n# day_of_week = pd.to_datetime(df_train[\"pickup_datetime\"]).dt.dayofweek",
      "execution_count": null,
      "outputs": []
    },
    {
      "metadata": {
        "_uuid": "e20dfc2a319b3d43ca2d1cc2e49285b2382816d6"
      },
      "cell_type": "markdown",
      "source": "There are several kinds of surcharge to taxi fare:\n\n1. \\$0.5 of additional night surcharge between 8PM - 6AM.\n2. \\$1 of peak hour weekday surcharge of Monday-Friday between 4PM-8PM."
    },
    {
      "metadata": {
        "trusted": true,
        "collapsed": true,
        "_uuid": "40401b7750e0ef439baf0bd39167d4e41e3cd3d7"
      },
      "cell_type": "code",
      "source": "def remove_surage(record):\n    fare_amount_no_surage = record[\"fare_amount\"]\n    if record[\"hour_type\"] == \"night\":\n        fare_amount_no_surage = fare_amount_no_surage - 0.5\n    if record[\"weekday\"] == 1 and record[\"hour_type\"] == \"afternoon_peak\":\n        fare_amount_no_surage = fare_amount_no_surage - 1\n    return fare_amount_no_surage\n\ndf_train[\"fare_amount_no_surage\"] = df_train.apply(lambda r: remove_surage(r), axis=1)\n",
      "execution_count": null,
      "outputs": []
    },
    {
      "metadata": {
        "trusted": true,
        "_uuid": "47a55d3598337e9e5339c39fe2c933add0498757",
        "collapsed": true
      },
      "cell_type": "code",
      "source": "df_train = df_train[df_train.fare_amount>=0]\ndf_train.head(8)",
      "execution_count": null,
      "outputs": []
    },
    {
      "metadata": {
        "trusted": true,
        "_uuid": "3ea318cddd27c855e8532e7b2c7663c0f39fb367",
        "collapsed": true
      },
      "cell_type": "code",
      "source": "# for year in list(df_train[\"year\"].unique()):\n#     temp_df = df_train[(df_train[\"airport\"] == \"not_airport\") & (df_train[\"year\"] == year)]\n#     sns.lmplot(x=\"distance_km\", y=\"fare_amount_no_surage\", data=temp_df, fit_reg=True)\n#     plt.title(\"simple regression for year = \" + str(year))\n",
      "execution_count": null,
      "outputs": []
    },
    {
      "metadata": {
        "trusted": true,
        "_uuid": "f29facdd7e9a2d6aedc18b6f40e742a6aa03f4d1",
        "collapsed": true
      },
      "cell_type": "code",
      "source": "# a test to research the effect of feature \"year\" on fare to airport\nairport_fare_byYear = pd.DataFrame(df_train.groupby(['airport', 'year'])['fare_amount'].mean())\nairport_fare_byYear.reset_index(inplace=True)  \nairport_fare_byYear",
      "execution_count": null,
      "outputs": []
    },
    {
      "metadata": {
        "trusted": true,
        "collapsed": true,
        "_uuid": "4b85152541b0f37e8057e152685f2f8c9ba02e79"
      },
      "cell_type": "markdown",
      "source": "**Model**\n\nlinear regression model: \n    \n    fare_amount ~ distance_km + passenger_count + year + weekday + afternoon_peak + morning_peak + night + normal_hour"
    },
    {
      "metadata": {
        "trusted": true,
        "_uuid": "8d62a82932cc598563c11300561307cd4cac1189",
        "collapsed": true
      },
      "cell_type": "code",
      "source": "# X = df_train.drop('fare_amount_no_surage', axis=1)\n# y = df_train['fare_amount_no_surage']\n\ndf_train_no_airport = df_train[df_train[\"airport\"] == \"not_airport\"]\nfeatures = [\"distance_km\", \"passenger_count\", \"weekday\", \"afternoon_peak\", \"morning_peak\", \"night\", \"normal_hour\"]\nyear_coef_dic = {}\n\nfor year in list(df_train[\"year\"].unique()):\n    temp_df = df_train_no_airport[df_train_no_airport[\"year\"] == year]\n    temp_lm = LinearRegression()\n    temp_lm.fit(temp_df[features], temp_df[\"fare_amount_no_surage\"])\n    year_coef_dic[year] = [temp_lm.intercept_] + list(temp_lm.coef_)\n    \nyear_coef_dic\n\n# X = df_train_no_airport.drop('fare_amount_no_surage', axis=1)\n# y = df_train_no_airport['fare_amount_no_surage']\n\n# X_train_df, X_test_df, y_train_df, y_test_df = train_test_split(X, y, test_size=0.25)\n# X.shape, y.shape\n",
      "execution_count": null,
      "outputs": []
    },
    {
      "metadata": {
        "trusted": true,
        "collapsed": true,
        "_uuid": "2fced63aa701839834a3e7a938f54ca6b3f4d7d1"
      },
      "cell_type": "code",
      "source": "def adjust_fare(record, prediction):\n    if record[\"night\"] == 1:\n        prediction = prediction + 0.5\n    if record[\"weekday\"] == 1 and record[\"afternoon_peak\"] == 1:\n        prediction = prediction + 1\n    \n    if record[\"airport\"] == \"airport_jfk\":\n        prediction = jfk_fare\n    elif record[\"airport\"] == \"airport_ewr\":\n        prediction = ewr_fare\n    elif record[\"airport\"] == \"airport_lgr\":\n        prediction = lgr_fare\n    \n    return prediction\n",
      "execution_count": null,
      "outputs": []
    },
    {
      "metadata": {
        "trusted": true,
        "_uuid": "7e2500b38c4e2529016055bbd8e217a6a2613f52",
        "collapsed": true
      },
      "cell_type": "code",
      "source": "def calculate_pred(row):\n    input_value = [1] + row[features].values.tolist()\n    coef = year_coef_dic[row[\"year\"]]\n    y_pred = sum([a*b for a,b in zip(input_value,coef)]).round(decimals = 2)\n    y_adjust_pred = adjust_fare(row, y_pred)\n    return y_adjust_pred\n\ndf_train[\"prediction\"] = df_train.apply(lambda row: calculate_pred(row), axis=1)\ndf_train.head(5)",
      "execution_count": null,
      "outputs": []
    },
    {
      "metadata": {
        "trusted": true,
        "collapsed": true,
        "_uuid": "a742143f9d8356ba00578f7d0a47557e2ef2948f"
      },
      "cell_type": "code",
      "source": "def plot_prediction_analysis(y, y_pred):    \n    plt.scatter(y, y_pred)\n    plt.xlabel(\"real y\")\n    plt.ylabel(\"predicted y\")\n    plt.plot([0, max(df_train[\"fare_amount\"])], [0, max(df_train[\"fare_amount\"])], color='red', linestyle='-', linewidth=0.5)\n    rmse = np.sqrt(mean_squared_error(y, y_pred))\n    plt.title('rmse = {:.2f}, with zero residual diagonal line'.format(rmse))\n    plt.show()\n",
      "execution_count": null,
      "outputs": []
    },
    {
      "metadata": {
        "trusted": true,
        "_uuid": "b1f34c1786ab9690faee4d4ab43269d45a30a595",
        "collapsed": true
      },
      "cell_type": "code",
      "source": "# prediction plot for training dataset\nplot_prediction_analysis(df_train[\"fare_amount\"], df_train[\"prediction\"])\n\n# df_predict_y.index = df_train.index\n# df_train_predict = pd.concat([df_train, df_predict_y], axis=1)\n# adjust_predict_y = df_train_predict.apply(lambda r: adjust_fare(r), axis=1)\n# # adjust_predict_y.head()\n# plot_prediction_analysis(df_train[\"fare_amount\"], adjust_predict_y)",
      "execution_count": null,
      "outputs": []
    },
    {
      "metadata": {
        "_uuid": "1b946b5b2febcfc2f4117917247069d4307bc549"
      },
      "cell_type": "markdown",
      "source": "**Validation Dataset Experiment**"
    },
    {
      "metadata": {
        "trusted": true,
        "_uuid": "e794cbbb18277410bc459e721bc07e2d96a4c991",
        "collapsed": true
      },
      "cell_type": "code",
      "source": "df_validation =  pd.read_csv('../input/train.csv', skiprows = 200000, nrows = 50000, \\\n                             names = [\"key\",\"fare_amount\",\"pickup_datetime\",\"pickup_longitude\",\"pickup_latitude\",\"dropoff_longitude\",\"dropoff_latitude\",\"passenger_count\"], \\\n                             parse_dates=[\"pickup_datetime\"])\nprint(len(df_validation))\nprint(df_validation.dtypes)\nprint(df_validation.isnull().sum())\ndf_validation.head()",
      "execution_count": null,
      "outputs": []
    },
    {
      "metadata": {
        "trusted": true,
        "collapsed": true,
        "_uuid": "7f80fc7a9b192a5a02d04cc6ca19e69a0468288a"
      },
      "cell_type": "code",
      "source": "# preprocessing dataset to extract features\ndef preprocess_dataset(df):\n    df['distance_km'] = df.apply(lambda x: distance(x[\"pickup_latitude\"], x[\"pickup_longitude\"], \\\n                                   x[\"dropoff_latitude\"], x[\"dropoff_longitude\"]), axis=1)\n    df[\"airport\"] = df.apply(lambda x: to_airport(x[\"dropoff_latitude\"], x[\"dropoff_longitude\"]), axis=1)\n    df = df.apply(lambda r: extract_time(r), axis=1)\n    df_hour_type = pd.get_dummies(df[\"hour_type\"])\n    df = df.join(df_hour_type)\n    df[\"fare_amount_no_surage\"] = df.apply(lambda r: remove_surage(r), axis=1)\n    return df",
      "execution_count": null,
      "outputs": []
    },
    {
      "metadata": {
        "trusted": true,
        "_uuid": "697c18cea9d7a6165a4d9a3828ed2f6ead9ed65d",
        "collapsed": true
      },
      "cell_type": "code",
      "source": "df_validation = preprocess_dataset(df_validation)\ndf_validation[\"prediction\"] = df_validation.apply(lambda row: calculate_pred(row), axis=1)\n\n# prediction plot for testing dataset\nplot_prediction_analysis(df_validation[\"fare_amount\"], df_validation[\"prediction\"])",
      "execution_count": null,
      "outputs": []
    },
    {
      "metadata": {
        "trusted": true,
        "_uuid": "cf33e095fb49492a1f102a814553ed8ef1549eab",
        "collapsed": true
      },
      "cell_type": "code",
      "source": "print(df_validation.isnull().sum())",
      "execution_count": null,
      "outputs": []
    },
    {
      "metadata": {
        "_uuid": "37dcdc5b82fb4f196eaf3582aabcf2b0c45504ca"
      },
      "cell_type": "markdown",
      "source": "**Fit Test Dataset to Model**"
    },
    {
      "metadata": {
        "trusted": true,
        "collapsed": true,
        "_uuid": "3ef829020ba17d8e5c3d312369389e4d69dbad64"
      },
      "cell_type": "code",
      "source": "df_test = pd.read_csv('../input/test.csv', parse_dates=[\"pickup_datetime\"])",
      "execution_count": null,
      "outputs": []
    },
    {
      "metadata": {
        "trusted": true,
        "_uuid": "921ebed536a61e96ad7d8671bb5bab2bd7bc2c51",
        "collapsed": true
      },
      "cell_type": "code",
      "source": "df_test.head()",
      "execution_count": null,
      "outputs": []
    },
    {
      "metadata": {
        "trusted": true,
        "_uuid": "bb157c4d7bd187823828c119a447f7408950d3a1",
        "collapsed": true
      },
      "cell_type": "code",
      "source": "df_test['distance_km'] = df_test.apply(lambda x: distance(x[\"pickup_latitude\"], x[\"pickup_longitude\"], \\\n                                   x[\"dropoff_latitude\"], x[\"dropoff_longitude\"]), axis=1)\n\ndf_test[\"airport\"] = df_test.apply(lambda x: to_airport(x[\"dropoff_latitude\"], x[\"dropoff_longitude\"]), axis=1)\ndf_airport = pd.get_dummies(df_test[\"airport\"])\ndf_test = df_test.join(df_airport)\n\ndf_test['hour'] = df_test[\"pickup_datetime\"].apply(lambda t: t.hour)\ndf_test['year'] = df_test[\"pickup_datetime\"].apply(lambda t: t.year)\ndf_test[\"weekdays\"] = df_test[\"pickup_datetime\"].apply(lambda t: 1 if t.weekday() in range(0,5) else 0)",
      "execution_count": null,
      "outputs": []
    },
    {
      "metadata": {
        "trusted": true,
        "_uuid": "42062dc30d9621b99d88b48b12468b71a5e1c6da",
        "collapsed": true
      },
      "cell_type": "code",
      "source": "filename = './output/baseline_linear'\n\ntest_X = df_test[features].values\ny_pred_final = fare_lm.predict(test_X).round(decimals = 2)\n\n# print(y_pred_final.shape)\n# print(y_pred_final[:10])\n\nsubmission = pd.DataFrame(\n    {'key': df_test.key, 'fare_amount': y_pred_final},\n    columns = ['key', 'fare_amount'])\nsubmission.to_csv('submission.csv', index = False)",
      "execution_count": null,
      "outputs": []
    },
    {
      "metadata": {
        "trusted": true,
        "collapsed": true,
        "_uuid": "7c172655d5fea01eb79925f11503cc7aa6796978"
      },
      "cell_type": "code",
      "source": "",
      "execution_count": null,
      "outputs": []
    },
    {
      "metadata": {
        "trusted": true,
        "collapsed": true,
        "_uuid": "4989d40e29a19e561badc13c60d1a09770908e9b"
      },
      "cell_type": "code",
      "source": "",
      "execution_count": null,
      "outputs": []
    },
    {
      "metadata": {
        "trusted": true,
        "collapsed": true,
        "_uuid": "633942579b1ce26a33ee1bb9a57bac45f28690ac"
      },
      "cell_type": "code",
      "source": "",
      "execution_count": null,
      "outputs": []
    }
  ],
  "metadata": {
    "kernelspec": {
      "display_name": "Python 3",
      "language": "python",
      "name": "python3"
    },
    "language_info": {
      "name": "python",
      "version": "3.6.6",
      "mimetype": "text/x-python",
      "codemirror_mode": {
        "name": "ipython",
        "version": 3
      },
      "pygments_lexer": "ipython3",
      "nbconvert_exporter": "python",
      "file_extension": ".py"
    }
  },
  "nbformat": 4,
  "nbformat_minor": 1
}