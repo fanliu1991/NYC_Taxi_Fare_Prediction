{
  "cells": [
    {
      "metadata": {
        "_uuid": "8f2839f25d086af736a60e9eeb907d3b93b6e0e5",
        "_cell_guid": "b1076dfc-b9ad-4769-8c92-a6c4dae69d19",
        "trusted": true
      },
      "cell_type": "code",
      "source": "import numpy as np \nimport pandas as pd\nimport matplotlib.pyplot as plt\nfrom matplotlib import path\nfrom sklearn.metrics import mean_squared_error, explained_variance_score\nfrom sklearn.preprocessing import StandardScaler\nfrom sklearn.linear_model import LinearRegression\nfrom sklearn.model_selection import train_test_split\nimport seaborn as sns\n\n\nimport os\nprint(os.listdir(\"../input\"))\n\n# read data in pandas dataframe\n# df_train =  pd.read_csv('../input/train.csv', nrows = 150000, parse_dates=[\"pickup_datetime\"])\ndf_train =  pd.read_csv('../input/train.csv', nrows = 5000, parse_dates=[\"pickup_datetime\"])\n'''\nprint(len(df_train))\nprint(df_train.dtypes)\n'''\ndf_train.head()",
      "execution_count": 2,
      "outputs": [
        {
          "output_type": "stream",
          "text": "['GCP-Coupons-Instructions.rtf', 'train.csv', 'sample_submission.csv', 'test.csv']\n5000\nkey                          object\nfare_amount                 float64\npickup_datetime      datetime64[ns]\npickup_longitude            float64\npickup_latitude             float64\ndropoff_longitude           float64\ndropoff_latitude            float64\npassenger_count               int64\ndtype: object\n",
          "name": "stdout"
        },
        {
          "output_type": "execute_result",
          "execution_count": 2,
          "data": {
            "text/plain": "                             key       ...         passenger_count\n0    2009-06-15 17:26:21.0000001       ...                       1\n1    2010-01-05 16:52:16.0000002       ...                       1\n2   2011-08-18 00:35:00.00000049       ...                       2\n3    2012-04-21 04:30:42.0000001       ...                       1\n4  2010-03-09 07:51:00.000000135       ...                       1\n\n[5 rows x 8 columns]",
            "text/html": "<div>\n<style scoped>\n    .dataframe tbody tr th:only-of-type {\n        vertical-align: middle;\n    }\n\n    .dataframe tbody tr th {\n        vertical-align: top;\n    }\n\n    .dataframe thead th {\n        text-align: right;\n    }\n</style>\n<table border=\"1\" class=\"dataframe\">\n  <thead>\n    <tr style=\"text-align: right;\">\n      <th></th>\n      <th>key</th>\n      <th>fare_amount</th>\n      <th>pickup_datetime</th>\n      <th>pickup_longitude</th>\n      <th>pickup_latitude</th>\n      <th>dropoff_longitude</th>\n      <th>dropoff_latitude</th>\n      <th>passenger_count</th>\n    </tr>\n  </thead>\n  <tbody>\n    <tr>\n      <th>0</th>\n      <td>2009-06-15 17:26:21.0000001</td>\n      <td>4.5</td>\n      <td>2009-06-15 17:26:21</td>\n      <td>-73.844311</td>\n      <td>40.721319</td>\n      <td>-73.841610</td>\n      <td>40.712278</td>\n      <td>1</td>\n    </tr>\n    <tr>\n      <th>1</th>\n      <td>2010-01-05 16:52:16.0000002</td>\n      <td>16.9</td>\n      <td>2010-01-05 16:52:16</td>\n      <td>-74.016048</td>\n      <td>40.711303</td>\n      <td>-73.979268</td>\n      <td>40.782004</td>\n      <td>1</td>\n    </tr>\n    <tr>\n      <th>2</th>\n      <td>2011-08-18 00:35:00.00000049</td>\n      <td>5.7</td>\n      <td>2011-08-18 00:35:00</td>\n      <td>-73.982738</td>\n      <td>40.761270</td>\n      <td>-73.991242</td>\n      <td>40.750562</td>\n      <td>2</td>\n    </tr>\n    <tr>\n      <th>3</th>\n      <td>2012-04-21 04:30:42.0000001</td>\n      <td>7.7</td>\n      <td>2012-04-21 04:30:42</td>\n      <td>-73.987130</td>\n      <td>40.733143</td>\n      <td>-73.991567</td>\n      <td>40.758092</td>\n      <td>1</td>\n    </tr>\n    <tr>\n      <th>4</th>\n      <td>2010-03-09 07:51:00.000000135</td>\n      <td>5.3</td>\n      <td>2010-03-09 07:51:00</td>\n      <td>-73.968095</td>\n      <td>40.768008</td>\n      <td>-73.956655</td>\n      <td>40.783762</td>\n      <td>1</td>\n    </tr>\n  </tbody>\n</table>\n</div>"
          },
          "metadata": {}
        }
      ]
    },
    {
      "metadata": {
        "_uuid": "342ac76f833c23b66999ecc87f60bed046a7c72a"
      },
      "cell_type": "markdown",
      "source": "**Data Cleaning**"
    },
    {
      "metadata": {
        "trusted": true,
        "scrolled": true,
        "_uuid": "2acc5f03d1e43305a80bc2ac4ee52ba93023bb76"
      },
      "cell_type": "code",
      "source": "# check and drop the missing values\nprint(df_train.isnull().sum())\ndf_train = df_train.dropna(how = 'any', axis = 'rows')",
      "execution_count": 3,
      "outputs": [
        {
          "output_type": "stream",
          "text": "key                  0\nfare_amount          0\npickup_datetime      0\npickup_longitude     0\npickup_latitude      0\ndropoff_longitude    0\ndropoff_latitude     0\npassenger_count      0\ndtype: int64\n",
          "name": "stdout"
        }
      ]
    },
    {
      "metadata": {
        "trusted": true,
        "_uuid": "487007bd0652ef3da6b5dbaa4cd47b84eea6a7f5"
      },
      "cell_type": "code",
      "source": "# check for outliers in fare_amount \ndf_train[\"fare_amount\"].hist(bins=100)\nplt.xlabel('fare $USD')\nplt.ylabel('frequency')\nplt.title('fare_amount distribution')\n'''\nprint(df_train[\"fare_amount\"].describe())\n'''\n# the minimal fare_amount is negative, which is not realistic, so drop them\ndf_train = df_train[df_train.fare_amount>=0]",
      "execution_count": 4,
      "outputs": [
        {
          "output_type": "stream",
          "text": "count    5000.000000\nmean       11.296238\nstd         9.710106\nmin        -2.900000\n25%         6.000000\n50%         8.500000\n75%        12.500000\nmax       180.000000\nName: fare_amount, dtype: float64\n",
          "name": "stdout"
        },
        {
          "output_type": "display_data",
          "data": {
            "text/plain": "<matplotlib.figure.Figure at 0x7f8c577777b8>",
            "image/png": "[encoded data removed]"
          },
          "metadata": {}
        }
      ]
    },
    {
      "metadata": {
        "trusted": true,
        "_uuid": "dd24b286a8f9bc4f95678852b37863ab32ee0aac"
      },
      "cell_type": "code",
      "source": "# check for outliers in passenger_count \ndf_train[\"passenger_count\"].hist(bins=100, figsize=(14,3))\nplt.xlabel('fare $USD')\nplt.ylabel('frequency')\nplt.title('passenger_count distribution')\n'''\nprint(df_train[\"passenger_count\"].describe())\n'''\n# passenger_count of zero or larger than 6 (a SUV cab) seems to be not realistic, so drop them\ndf_train = df_train[(df_train['passenger_count']>0) & (df_train['passenger_count']<=6)]",
      "execution_count": 5,
      "outputs": [
        {
          "output_type": "stream",
          "text": "count    4998.000000\nmean        1.631253\nstd         1.257310\nmin         0.000000\n25%         1.000000\n50%         1.000000\n75%         2.000000\nmax         6.000000\nName: passenger_count, dtype: float64\n",
          "name": "stdout"
        },
        {
          "output_type": "display_data",
          "data": {
            "text/plain": "<matplotlib.figure.Figure at 0x7f8c4b4866a0>",
            "image/png": "[encoded data removed]"
          },
          "metadata": {}
        }
      ]
    },
    {
      "metadata": {
        "trusted": true,
        "_uuid": "73ecad323e129c5440154fc7b0c4391c65554f94"
      },
      "cell_type": "code",
      "source": "# Googling latitudes and longitudes give such information\n# Latitudes range from -90 to 90.\n# Longitudes range from -180 to 180.\n'''\nprint(df_train['pickup_latitude'].describe())\nprint(df_train['pickup_longitude'].describe())\nprint(df_train['dropoff_latitude'].describe())\nprint(df_train['dropoff_longitude'].describe())\n'''\n\n# it shows some data errors in latitude and longitude,\n# including outliers and wrong order when inserted latitude and longitude into dataset\n# by using Google map, the latitude and longitude coordinate of New York City is:\nnyc = (40.730610, -73.935242)\n\n# so drop trips that are out of New York City and its nearby areas\ndef city_nearby_areas(df, city):\n    return (df['pickup_longitude'] >= city[1]-1.5) & (df['pickup_longitude'] <= city[1]+1.5) & \\\n           (df['pickup_latitude'] >= city[0]-1.5) & (df['pickup_latitude'] <= city[0]+1.5) & \\\n           (df['dropoff_longitude'] >= city[1]-1.5) & (df['dropoff_longitude'] <= city[1]+1.5) & \\\n           (df['dropoff_latitude'] >= city[0]-1.5) & (df['dropoff_latitude'] <= city[0]+1.5)\n\ndf_train = df_train[city_nearby_areas(df_train, nyc)]\nprint(len(df_train))",
      "execution_count": 6,
      "outputs": [
        {
          "output_type": "stream",
          "text": "count    4982.000000\nmean       39.864078\nstd         6.362589\nmin       -73.991840\n25%        40.734036\n50%        40.752169\n75%        40.766895\nmax        41.366138\nName: pickup_latitude, dtype: float64\ncount    4982.000000\nmean      -72.421293\nstd        10.741341\nmin       -74.438233\n25%       -73.992465\n50%       -73.982081\n75%       -73.967047\nmax        40.751582\nName: pickup_longitude, dtype: float64\ncount    4982.000000\nmean       39.872625\nstd         6.337287\nmin       -73.979010\n25%        40.734401\n50%        40.753512\n75%        40.767617\nmax        41.032598\nName: dropoff_latitude, dtype: float64\ncount    4982.000000\nmean      -72.420618\nstd        10.741255\nmin       -74.429332\n25%       -73.991346\n50%       -73.980196\n75%       -73.963616\nmax        40.758867\nName: dropoff_longitude, dtype: float64\n4876\n",
          "name": "stdout"
        }
      ]
    },
    {
      "metadata": {
        "trusted": true,
        "collapsed": true,
        "_uuid": "928ede89f3de6fd250c1146699a148aa75d36a5f"
      },
      "cell_type": "code",
      "source": "# a function to calculate distance between two latitude longitude points.\n# this function is based on https://stackoverflow.com/questions/27928/\ndef distance(lat1, lon1, lat2, lon2):\n    p = 0.017453292519943295 # Pi/180\n    a = 0.5 - np.cos((lat2 - lat1) * p)/2 + np.cos(lat1 * p) * np.cos(lat2 * p) * (1 - np.cos((lon2 - lon1) * p)) / 2\n    return 12742 * np.arcsin(np.sqrt(a)) # 2*R*asin...\n\n# calculate the distance in kilometers between pickup and dropoff postion of each trip \ndf_train['distance_km'] = df_train.apply(lambda x: distance(x[\"pickup_latitude\"], x[\"pickup_longitude\"], \\\n                                   x[\"dropoff_latitude\"], x[\"dropoff_longitude\"]), axis=1)",
      "execution_count": 7,
      "outputs": []
    },
    {
      "metadata": {
        "trusted": true,
        "_uuid": "e7d53bd6e9beb1461b2dc0b3402fb371ff214add",
        "collapsed": true
      },
      "cell_type": "code",
      "source": "# check for outliers in distance_km \nprint(df_train[\"distance_km\"].describe())\n\nplt.scatter(df_train[\"distance_km\"], df_train[\"fare_amount\"], alpha=0.2)\nplt.xlabel('distance in kilometers')\nplt.ylabel('fare $USD')\nplt.title('distance vs. fare')\n\n# the plot shows there are trips with zero distance but with a non-zero fare\n# drop trips with zero distance\ndf_train = df_train[df_train[\"distance_km\"] >= 0.1]\nprint(len(df_train))\n\n# the plot also shows some long trips but with low fare, just leave them now and I will analyze them later\n# df_train[df_train.fare_amount > 50]",
      "execution_count": null,
      "outputs": []
    },
    {
      "metadata": {
        "trusted": true,
        "_uuid": "1372b476b379ec42ea84f17e4add9425097ac3e7",
        "scrolled": true,
        "collapsed": true
      },
      "cell_type": "code",
      "source": "plt.scatter(df_train[\"pickup_longitude\"], df_train[\"pickup_latitude\"], alpha=0.2)\nplt.xlim(nyc[1]-0.1, nyc[1])\nplt.ylim(nyc[0]-0.05, nyc[0]+0.05)\nplt.xlabel('pickup_longitude')\nplt.ylabel('pickup_latitude')\nplt.title('pickup positions')\n\n# df_train = df_train[(df_train[\"distance_km\"] < 80)]",
      "execution_count": null,
      "outputs": []
    },
    {
      "metadata": {
        "trusted": true,
        "collapsed": true,
        "_uuid": "413ad5fdee9a87a6e4b3c7a91134ff6b3db26d98"
      },
      "cell_type": "code",
      "source": "'''\ncontains_point(point, transform=None, radius=0.0):\n    Returns whether the (closed) path contains the given point.\ncw_path  = path.Path([[0,0], [0,1], [1,2], [3,2], [2,1], [3,0]])\ncw_path.contains_point([1.5, 1])\n'''",
      "execution_count": null,
      "outputs": []
    },
    {
      "metadata": {
        "_uuid": "df674ffb795acb567d3662232f4150ab1040e059"
      },
      "cell_type": "markdown",
      "source": "**Check If a Taxi Trip is To/From Airport**\n\nTaxi trip between JFK and Manhattan is a flat fare.\n\nTaxi trip to EWR has a Newark Surcharge"
    },
    {
      "metadata": {
        "trusted": true,
        "collapsed": true,
        "_uuid": "3146b04c80d24f9d1d88d781ec7183d448ccf86d"
      },
      "cell_type": "code",
      "source": "# check if a give place (coordinate) is loacted in the specified area\ndef in_area(area, place):\n    p = path.Path(area)\n    res = p.contains_point(place)\n    return res\n# in_area(Manhattan, [40.745969, -74.027072])",
      "execution_count": 12,
      "outputs": []
    },
    {
      "metadata": {
        "trusted": true,
        "collapsed": true,
        "_uuid": "d4574b297c382c9877b79c30af86cb727bc5c192"
      },
      "cell_type": "code",
      "source": "# Manhattan area boundary is defined by following coordinates\nManhattan = [(40.686909, -74.034496), (40.680376, -74.021145), (40.704307, -73.997131), (40.709044, -73.974796), \\\n               (40.745379, -73.962538), (40.771583, -73.938199), (40.773910, -73.939632), (40.780453, -73.935530), \\\n               (40.780316, -73.924544), (40.795204, -73.910464), (40.802289, -73.927286), (40.810788, -73.933235), \\\n               (40.835167, -73.934011), (40.873370, -73.906769), (40.879385, -73.910359), (40.875912, -73.915514), \\\n               (40.882451, -73.934690), (40.755360, -74.014918)]",
      "execution_count": 13,
      "outputs": []
    },
    {
      "metadata": {
        "trusted": true,
        "_uuid": "d7a8f54fcf835ea7181c80d9e25f848aa5294af9",
        "collapsed": true
      },
      "cell_type": "code",
      "source": "# Airport trip to/from JFK and any location in Manhattan is a flat fare\n# Airport trip from JFK to other New York City destinations is a metered fare\n# Airport trip to Newark Liberty International Airport is a metered fare with a Newark Surcharge\n# Airport trip to LaGuardia Airport is a metered fare\n\n# check if the trip is between JFK and a location in Manhattan, or the trip dropoff at to Newark Airport,\n# dropoff/pickup at the place where is less than 2 km from airport is regarded as trip to/from airport\njfk = (40.6413, -73.7781)\newr = (40.6895, -74.1745)\n\ndef airport_trip(trip):\n    if distance(trip[\"dropoff_latitude\"], trip[\"dropoff_longitude\"], jfk[0], jfk[1]) <= 2 and \\\n    in_area(Manhattan, [trip[\"dropoff_latitude\"], trip[\"dropoff_longitude\"]]) == True:\n        return \"jfk_Manhattan\"\n    elif distance(trip[\"pickup_latitude\"], trip[\"pickup_longitude\"], jfk[0], jfk[1]) <= 2 and \\\n    in_area(Manhattan, [trip[\"pickup_latitude\"], trip[\"pickup_longitude\"]]) == True:\n        return \"jfk_Manhattan\"\n    elif distance(trip[\"dropoff_latitude\"], trip[\"dropoff_longitude\"], ewr[0], ewr[1]) <=2:\n        return \"airport_ewr\"\n    else:\n        return \"not_airport\"\n\ndf_train[\"to_airport\"] = df_train.apply(lambda row: airport_trip(row), axis=1)\n",
      "execution_count": null,
      "outputs": []
    },
    {
      "metadata": {
        "trusted": true,
        "_uuid": "ab072d20585eb507b4365085461c2862659cfb81",
        "collapsed": true
      },
      "cell_type": "code",
      "source": "# using one-hot encoding to transform to_airport feature for fitting regression model \ndf_airport = pd.get_dummies(df_train[\"to_airport\"])\ndf_train = df_train.join(df_airport)",
      "execution_count": null,
      "outputs": []
    },
    {
      "metadata": {
        "trusted": true,
        "collapsed": true,
        "_uuid": "3ac3b7a10cc55b6047d307e5e770bebe6e2feef9"
      },
      "cell_type": "markdown",
      "source": "**Extract Hour and Day From pickup_datetime**\n\nTaxi trip at night has extra surcharge.\n\nThe amount of traffic also depends on the hour of the day, and it determines the duration of the trip and thus the fare. "
    },
    {
      "metadata": {
        "trusted": true,
        "_uuid": "96178f18ceca6ed0e68de029cacaaff021f6f76c",
        "collapsed": true
      },
      "cell_type": "code",
      "source": "def hour_type(hour, weekday):\n    if hour in list(range(20, 25)) + list(range(0,7)):\n        return \"night\"\n    elif hour in range(7, 10) and weekday == 1:\n        return \"morning_peak\"\n    elif hour in range(16, 20) and weekday == 1:\n        return \"afternoon_peak\"\n    else:\n        return \"normal_hour\"\n\ndef extract_time(record):\n    record['hour'] = record[\"pickup_datetime\"].hour\n    record['year'] = record[\"pickup_datetime\"].year\n    record[\"day_of_week\"] = record[\"pickup_datetime\"].weekday()\n    record[\"weekday\"] = 1 if record[\"day_of_week\"] in range(0, 5) else 0\n    record[\"hour_type\"] = hour_type(record[\"hour\"], record[\"weekday\"])\n    return record\n\ndf_train = df_train.apply(lambda r: extract_time(r), axis=1)\n\ndf_hour_type = pd.get_dummies(df_train[\"hour_type\"])\ndf_train = df_train.join(df_hour_type)\n\n# Another method to find the day of week \n# day_of_week = pd.to_datetime(df_train[\"pickup_datetime\"]).dt.weekday_name\n# or\n# day_of_week = pd.to_datetime(df_train[\"pickup_datetime\"]).dt.dayofweek\n\n# df_train['hour'] = df_train[\"pickup_datetime\"].apply(lambda t: t.hour)\n# df_train['year'] = df_train[\"pickup_datetime\"].apply(lambda t: t.year-2009)\n# df_train[\"day_of_week\"] = df_train[\"pickup_datetime\"].apply(lambda t: t.weekday())",
      "execution_count": null,
      "outputs": []
    },
    {
      "metadata": {
        "_uuid": "8bb1e15ef90301ad0a9344d49f5f8e00346afdfa"
      },
      "cell_type": "markdown",
      "source": "**Check If a Taxi Trip is Group Ride**\n\nTwo, three, or four people can take a group ride from a yellow taxi Group Ride Stand and pay a flat rate.\n\nGroup Ride pickup times are certain hours, Monday – Friday (excluding holidays)."
    },
    {
      "metadata": {
        "trusted": true,
        "collapsed": true,
        "_uuid": "06d4a75e7d284a1ff2f5b7f6dede1b557afaa342"
      },
      "cell_type": "code",
      "source": "# GR_1:\n# York Ave / 70th St, Frankfort St / Pearl St & on to World Financial Center, \n# $6.00, 6AM – 10AM\n\n# GR_2:\n# Port Authority Bus Terminal, 59th St / 6th Ave, \n# $3.00, 6AM– 10AM\n\n# GR_3:\n# LaGuardia Airport - Marine Air Terminal, Bet 35th & 59th St & Bet 2nd Ave & 8th Ave,\n# $22/person with 2 passengers, $18/person with 3 passengers, 7AM – 10AM & 4PM – 8PM\n\n# GR_4:\n# 57th St / 8th Ave, 57th St to Park Ave / 42nd St,\n# $3.00, 6AM– 10AM\n\n# GR_5:\n# 72nd St / 3rd Ave, Park Ave / 42nd St,\n# $4.00, 6AM– 10AM\n\n# GR_6:\n# 72nd St / Columbus Ave, Park Ave / 42nd St,\n# $4.00, 6AM– 10AM\n",
      "execution_count": null,
      "outputs": []
    },
    {
      "metadata": {
        "trusted": true,
        "collapsed": true,
        "_uuid": "207f35d5d10d68955c54d54b8b76ba82fc1c16c4"
      },
      "cell_type": "code",
      "source": "",
      "execution_count": null,
      "outputs": []
    },
    {
      "metadata": {
        "trusted": true,
        "collapsed": true,
        "_uuid": "912932246eeb959a09f28a961207c5ccaeecb88d"
      },
      "cell_type": "markdown",
      "source": "**Check If Trips Crossed Boroughs, Which may Caused Toll Fees to Fare Amount**\n\nPassengers must pay tolls if the trip between New Jersey/Manhattan, Manhattan/Queens+Brooklyn,  Staten Island/Brooklyn and New Jersey/Staten Island"
    },
    {
      "metadata": {
        "trusted": true,
        "collapsed": true,
        "_uuid": "3b2cc516f9cae6b117dcf4525cd9d6e34903743f"
      },
      "cell_type": "code",
      "source": "# New Jersey boundary coordinates:\nNew_Jersey = [(40.998125, -73.892134), (40.752798, -74.011413), (40.652655, -74.046638), (40.643193, -74.152969), \\\n              (40.647175, -74.181208), (40.631922, -74.203180), (40.557508, -74.219282), (40.549155, -74.247418), \\\n              (40.521271, -74.246102), (40.509769, -74.258537), (40.475795, -74.237970), (40.484005, -73.955930), \\\n              (38.760545, -74.169389), (39.065187, -75.640440), (41.927266, -75.595312)]\n\n# Brooklyn and Queens bounday coordinates\nBrooklyn_Queens = [(40.686909, -74.034496), (40.680376, -74.021145), (40.704307, -73.997131), (40.709044, -73.974796), \\\n                   (40.745379, -73.962538), (40.771583, -73.938199), (40.773910, -73.939632), (40.780453, -73.935530), \\\n                   (40.780316, -73.924544), (40.795204, -73.910464), (40.809220, -73.776494), (40.752348, -73.700726), \\\n                   (40.545962, -73.741831), (40.531383, -74.053978)]\n\n# Staten Island boundary coordinates:\nStaten_Island = [(40.652655, -74.046638), (40.643193, -74.152969), (40.647175, -74.181208), (40.631922, -74.203180), \\\n                 (40.557508, -74.219282), (40.549155, -74.247418), (40.521271, -74.246102), (40.509769, -74.258537), \\\n                 (40.475795, -74.237970), (40.484005, -73.955930)]",
      "execution_count": 9,
      "outputs": []
    },
    {
      "metadata": {
        "trusted": true,
        "_uuid": "9614e6e96ad0a7ea80f6cba542f0b06c0aaf9062"
      },
      "cell_type": "code",
      "source": "def tolls_fees(trip):\n    # trip pickup at New Jersey\n    if in_area(New_Jersey, [trip[\"pickup_latitude\"], trip[\"pickup_longitude\"]]) == True and \\\n    in_area(Manhattan, [trip[\"dropoff_latitude\"], trip[\"dropoff_longitude\"]]) == True:\n        trip[\"tolls_NJ_Manh\"] = 1\n    elif in_area(New_Jersey, [trip[\"pickup_latitude\"], trip[\"pickup_longitude\"]]) == True and \\\n    in_area(Brooklyn_Queens, [trip[\"dropoff_latitude\"], trip[\"dropoff_longitude\"]]) == True:\n        trip[\"tolls_NJ_Manh\"] = 1\n        trip[\"tolls_Manh_BQ\"] = 1\n    elif in_area(New_Jersey, [trip[\"pickup_latitude\"], trip[\"pickup_longitude\"]]) == True and \\\n    in_area(Staten_Island, [trip[\"dropoff_latitude\"], trip[\"dropoff_longitude\"]]) == True:\n        trip[\"tolls_NJ_SI\"] = 1\n    \n    # trip pickup at Manhattan\n    elif in_area(Manhattan, [trip[\"pickup_latitude\"], trip[\"pickup_longitude\"]]) == True and \\\n    in_area(Brooklyn_Queens, [trip[\"dropoff_latitude\"], trip[\"dropoff_longitude\"]]) == True:\n        trip[\"tolls_Manh_BQ\"] = 1\n    elif in_area(Manhattan, [trip[\"pickup_latitude\"], trip[\"pickup_longitude\"]]) == True and \\\n    in_area(Staten_Island, [trip[\"dropoff_latitude\"], trip[\"dropoff_longitude\"]]) == True:\n        trip[\"tolls_BQ_SI\"] = 1\n    # no tolls fee from Manhattan to New Jersey\n    \n    # trip pickup at Brooklyn or Queens\n    elif in_area(Brooklyn_Queens, [trip[\"pickup_latitude\"], trip[\"pickup_longitude\"]]) == True and \\\n    in_area(New_Jersey, [trip[\"dropoff_latitude\"], trip[\"dropoff_longitude\"]]) == True:\n        trip[\"tolls_Manh_BQ\"] = 1\n    elif in_area(Brooklyn_Queens, [trip[\"pickup_latitude\"], trip[\"pickup_longitude\"]]) == True and \\\n    in_area(Manhattan, [trip[\"dropoff_latitude\"], trip[\"dropoff_longitude\"]]) == True:\n        trip[\"tolls_Manh_BQ\"] = 1\n    elif in_area(Brooklyn_Queens, [trip[\"pickup_latitude\"], trip[\"pickup_longitude\"]]) == True and \\\n    in_area(Staten_Island, [trip[\"dropoff_latitude\"], trip[\"dropoff_longitude\"]]) == True:\n        trip[\"tolls_BQ_SI\"] = 1\n    \n    # trip pickup at Staten Island\n    elif in_area(Staten_Island, [trip[\"pickup_latitude\"], trip[\"pickup_longitude\"]]) == True and \\\n    in_area(Manhattan, [trip[\"dropoff_latitude\"], trip[\"dropoff_longitude\"]]) == True:\n        trip[\"tolls_Manh_BQ\"] = 1\n    # no tolls fee from Staten Island to New Jersey, Brooklyn and Queens\n    \n    return trip\n\n# there are 4 levels of toll fees between boroughs of New York\n# single way\ndf_train[\"tolls_NJ_Manh\"] = 0\ndf_train[\"tolls_BQ_SI\"] = 0\ndf_train[\"tolls_NJ_SI\"] = 0\n# each way\ndf_train[\"tolls_Manh_BQ\"] = 0\n\ndf_train = df_train.apply(lambda row: tolls_fees(row), axis=1)",
      "execution_count": 14,
      "outputs": []
    },
    {
      "metadata": {
        "trusted": true,
        "_uuid": "7818b9c2897ef7ce3a47c0d8a0ad4ed855439af3"
      },
      "cell_type": "code",
      "source": "df_train[df_train[\"tolls_Manh_BQ\"]==1][[\"pickup_latitude\", \"pickup_longitude\", \"dropoff_latitude\", \"dropoff_longitude\"]].head(10)",
      "execution_count": 18,
      "outputs": [
        {
          "output_type": "execute_result",
          "execution_count": 18,
          "data": {
            "text/plain": "     pickup_latitude        ...          dropoff_longitude\n28         40.690835        ...                 -74.004133\n31         40.717667        ...                 -73.985771\n32         40.773883        ...                 -73.984545\n34         40.740785        ...                 -73.999272\n56         40.758853        ...                 -73.872907\n86         40.746485        ...                 -73.973756\n112        40.787772        ...                 -73.944352\n118        40.774105        ...                 -73.970593\n126        40.729325        ...                 -73.931985\n131        40.676052        ...                 -74.002522\n\n[10 rows x 4 columns]",
            "text/html": "<div>\n<style scoped>\n    .dataframe tbody tr th:only-of-type {\n        vertical-align: middle;\n    }\n\n    .dataframe tbody tr th {\n        vertical-align: top;\n    }\n\n    .dataframe thead th {\n        text-align: right;\n    }\n</style>\n<table border=\"1\" class=\"dataframe\">\n  <thead>\n    <tr style=\"text-align: right;\">\n      <th></th>\n      <th>pickup_latitude</th>\n      <th>pickup_longitude</th>\n      <th>dropoff_latitude</th>\n      <th>dropoff_longitude</th>\n    </tr>\n  </thead>\n  <tbody>\n    <tr>\n      <th>28</th>\n      <td>40.690835</td>\n      <td>-73.989258</td>\n      <td>40.725690</td>\n      <td>-74.004133</td>\n    </tr>\n    <tr>\n      <th>31</th>\n      <td>40.717667</td>\n      <td>-74.010483</td>\n      <td>40.660366</td>\n      <td>-73.985771</td>\n    </tr>\n    <tr>\n      <th>32</th>\n      <td>40.773883</td>\n      <td>-73.873027</td>\n      <td>40.769545</td>\n      <td>-73.984545</td>\n    </tr>\n    <tr>\n      <th>34</th>\n      <td>40.740785</td>\n      <td>-73.993717</td>\n      <td>40.676617</td>\n      <td>-73.999272</td>\n    </tr>\n    <tr>\n      <th>56</th>\n      <td>40.758853</td>\n      <td>-73.985427</td>\n      <td>40.774497</td>\n      <td>-73.872907</td>\n    </tr>\n    <tr>\n      <th>86</th>\n      <td>40.746485</td>\n      <td>-73.917399</td>\n      <td>40.763836</td>\n      <td>-73.973756</td>\n    </tr>\n    <tr>\n      <th>112</th>\n      <td>40.787772</td>\n      <td>-73.953310</td>\n      <td>40.719772</td>\n      <td>-73.944352</td>\n    </tr>\n    <tr>\n      <th>118</th>\n      <td>40.774105</td>\n      <td>-73.872862</td>\n      <td>40.764393</td>\n      <td>-73.970593</td>\n    </tr>\n    <tr>\n      <th>126</th>\n      <td>40.729325</td>\n      <td>-73.987210</td>\n      <td>40.697207</td>\n      <td>-73.931985</td>\n    </tr>\n    <tr>\n      <th>131</th>\n      <td>40.676052</td>\n      <td>-73.983837</td>\n      <td>40.723145</td>\n      <td>-74.002522</td>\n    </tr>\n  </tbody>\n</table>\n</div>"
          },
          "metadata": {}
        }
      ]
    },
    {
      "metadata": {
        "trusted": true,
        "collapsed": true,
        "_uuid": "e2dc52fd315e25483ce4ea17ac65401feef4d189"
      },
      "cell_type": "code",
      "source": "",
      "execution_count": null,
      "outputs": []
    },
    {
      "metadata": {
        "trusted": true,
        "_uuid": "47a55d3598337e9e5339c39fe2c933add0498757",
        "collapsed": true
      },
      "cell_type": "code",
      "source": "df_train = df_train[df_train.fare_amount>=0]\ndf_train.head(8)",
      "execution_count": null,
      "outputs": []
    },
    {
      "metadata": {
        "trusted": true,
        "_uuid": "3ea318cddd27c855e8532e7b2c7663c0f39fb367",
        "collapsed": true
      },
      "cell_type": "code",
      "source": "# for year in list(df_train[\"year\"].unique()):\n#     temp_df = df_train[(df_train[\"airport\"] == \"not_airport\") & (df_train[\"year\"] == year)]\n#     sns.lmplot(x=\"distance_km\", y=\"fare_amount_no_surage\", data=temp_df, fit_reg=True)\n#     plt.title(\"simple regression for year = \" + str(year))\n",
      "execution_count": null,
      "outputs": []
    },
    {
      "metadata": {
        "trusted": true,
        "_uuid": "f29facdd7e9a2d6aedc18b6f40e742a6aa03f4d1",
        "collapsed": true
      },
      "cell_type": "code",
      "source": "# a test to research the effect of feature \"year\" on fare to airport\nairport_fare_byYear = pd.DataFrame(df_train.groupby(['airport', 'year'])['fare_amount'].mean())\nairport_fare_byYear.reset_index(inplace=True)  \nairport_fare_byYear",
      "execution_count": null,
      "outputs": []
    },
    {
      "metadata": {
        "trusted": true,
        "collapsed": true,
        "_uuid": "4b85152541b0f37e8057e152685f2f8c9ba02e79"
      },
      "cell_type": "markdown",
      "source": "**Model**\n\nlinear regression model: \n    \n    fare_amount ~ distance_km + passenger_count + year + weekday + afternoon_peak + morning_peak + night + normal_hour"
    },
    {
      "metadata": {
        "trusted": true,
        "_uuid": "8d62a82932cc598563c11300561307cd4cac1189",
        "collapsed": true
      },
      "cell_type": "code",
      "source": "# X = df_train.drop('fare_amount_no_surage', axis=1)\n# y = df_train['fare_amount_no_surage']\n\ndf_train_no_airport = df_train[df_train[\"airport\"] == \"not_airport\"]\nfeatures = [\"distance_km\", \"passenger_count\", \"weekday\", \"afternoon_peak\", \"morning_peak\", \"night\", \"normal_hour\"]\nyear_coef_dic = {}\n\nfor year in list(df_train[\"year\"].unique()):\n    temp_df = df_train_no_airport[df_train_no_airport[\"year\"] == year]\n    temp_lm = LinearRegression()\n    temp_lm.fit(temp_df[features], temp_df[\"fare_amount_no_surage\"])\n    year_coef_dic[year] = [temp_lm.intercept_] + list(temp_lm.coef_)\n    \nyear_coef_dic\n\n# X = df_train_no_airport.drop('fare_amount_no_surage', axis=1)\n# y = df_train_no_airport['fare_amount_no_surage']\n\n# X_train_df, X_test_df, y_train_df, y_test_df = train_test_split(X, y, test_size=0.25)\n# X.shape, y.shape\n",
      "execution_count": null,
      "outputs": []
    },
    {
      "metadata": {
        "trusted": true,
        "collapsed": true,
        "_uuid": "2fced63aa701839834a3e7a938f54ca6b3f4d7d1"
      },
      "cell_type": "code",
      "source": "def adjust_fare(record, prediction):\n    if record[\"night\"] == 1:\n        prediction = prediction + 0.5\n    if record[\"weekday\"] == 1 and record[\"afternoon_peak\"] == 1:\n        prediction = prediction + 1\n    \n    if record[\"airport\"] == \"airport_jfk\":\n        prediction = jfk_fare\n    elif record[\"airport\"] == \"airport_ewr\":\n        prediction = ewr_fare\n    elif record[\"airport\"] == \"airport_lgr\":\n        prediction = lgr_fare\n    \n    return prediction\n",
      "execution_count": null,
      "outputs": []
    },
    {
      "metadata": {
        "trusted": true,
        "_uuid": "7e2500b38c4e2529016055bbd8e217a6a2613f52",
        "collapsed": true
      },
      "cell_type": "code",
      "source": "def calculate_pred(row):\n    input_value = [1] + row[features].values.tolist()\n    coef = year_coef_dic[row[\"year\"]]\n    y_pred = sum([a*b for a,b in zip(input_value,coef)]).round(decimals = 2)\n    y_adjust_pred = adjust_fare(row, y_pred)\n    return y_adjust_pred\n\ndf_train[\"prediction\"] = df_train.apply(lambda row: calculate_pred(row), axis=1)\ndf_train.head(5)",
      "execution_count": null,
      "outputs": []
    },
    {
      "metadata": {
        "trusted": true,
        "collapsed": true,
        "_uuid": "a742143f9d8356ba00578f7d0a47557e2ef2948f"
      },
      "cell_type": "code",
      "source": "def plot_prediction_analysis(y, y_pred):    \n    plt.scatter(y, y_pred)\n    plt.xlabel(\"real y\")\n    plt.ylabel(\"predicted y\")\n    plt.plot([0, max(df_train[\"fare_amount\"])], [0, max(df_train[\"fare_amount\"])], color='red', linestyle='-', linewidth=0.5)\n    rmse = np.sqrt(mean_squared_error(y, y_pred))\n    plt.title('rmse = {:.2f}, with zero residual diagonal line'.format(rmse))\n    plt.show()\n",
      "execution_count": null,
      "outputs": []
    },
    {
      "metadata": {
        "trusted": true,
        "_uuid": "b1f34c1786ab9690faee4d4ab43269d45a30a595",
        "collapsed": true
      },
      "cell_type": "code",
      "source": "# prediction plot for training dataset\nplot_prediction_analysis(df_train[\"fare_amount\"], df_train[\"prediction\"])\n\n# df_predict_y.index = df_train.index\n# df_train_predict = pd.concat([df_train, df_predict_y], axis=1)\n# adjust_predict_y = df_train_predict.apply(lambda r: adjust_fare(r), axis=1)\n# # adjust_predict_y.head()\n# plot_prediction_analysis(df_train[\"fare_amount\"], adjust_predict_y)",
      "execution_count": null,
      "outputs": []
    },
    {
      "metadata": {
        "_uuid": "1b946b5b2febcfc2f4117917247069d4307bc549"
      },
      "cell_type": "markdown",
      "source": "**Validation Dataset Experiment**"
    },
    {
      "metadata": {
        "trusted": true,
        "_uuid": "e794cbbb18277410bc459e721bc07e2d96a4c991",
        "collapsed": true
      },
      "cell_type": "code",
      "source": "df_validation =  pd.read_csv('../input/train.csv', skiprows = 200000, nrows = 50000, \\\n                             names = [\"key\",\"fare_amount\",\"pickup_datetime\",\"pickup_longitude\",\"pickup_latitude\",\"dropoff_longitude\",\"dropoff_latitude\",\"passenger_count\"], \\\n                             parse_dates=[\"pickup_datetime\"])\nprint(len(df_validation))\nprint(df_validation.dtypes)\nprint(df_validation.isnull().sum())\ndf_validation.head()",
      "execution_count": null,
      "outputs": []
    },
    {
      "metadata": {
        "trusted": true,
        "collapsed": true,
        "_uuid": "7f80fc7a9b192a5a02d04cc6ca19e69a0468288a"
      },
      "cell_type": "code",
      "source": "# preprocessing dataset to extract features\ndef preprocess_dataset(df):\n    df['distance_km'] = df.apply(lambda x: distance(x[\"pickup_latitude\"], x[\"pickup_longitude\"], \\\n                                   x[\"dropoff_latitude\"], x[\"dropoff_longitude\"]), axis=1)\n    df[\"airport\"] = df.apply(lambda x: to_airport(x[\"dropoff_latitude\"], x[\"dropoff_longitude\"]), axis=1)\n    df = df.apply(lambda r: extract_time(r), axis=1)\n    df_hour_type = pd.get_dummies(df[\"hour_type\"])\n    df = df.join(df_hour_type)\n    df[\"fare_amount_no_surage\"] = df.apply(lambda r: remove_surage(r), axis=1)\n    return df",
      "execution_count": null,
      "outputs": []
    },
    {
      "metadata": {
        "trusted": true,
        "_uuid": "697c18cea9d7a6165a4d9a3828ed2f6ead9ed65d",
        "collapsed": true
      },
      "cell_type": "code",
      "source": "df_validation = preprocess_dataset(df_validation)\ndf_validation[\"prediction\"] = df_validation.apply(lambda row: calculate_pred(row), axis=1)\n\n# prediction plot for testing dataset\nplot_prediction_analysis(df_validation[\"fare_amount\"], df_validation[\"prediction\"])",
      "execution_count": null,
      "outputs": []
    },
    {
      "metadata": {
        "trusted": true,
        "_uuid": "cf33e095fb49492a1f102a814553ed8ef1549eab",
        "collapsed": true
      },
      "cell_type": "code",
      "source": "print(df_validation.isnull().sum())",
      "execution_count": null,
      "outputs": []
    },
    {
      "metadata": {
        "_uuid": "37dcdc5b82fb4f196eaf3582aabcf2b0c45504ca"
      },
      "cell_type": "markdown",
      "source": "**Fit Test Dataset to Model**"
    },
    {
      "metadata": {
        "trusted": true,
        "collapsed": true,
        "_uuid": "3ef829020ba17d8e5c3d312369389e4d69dbad64"
      },
      "cell_type": "code",
      "source": "df_test = pd.read_csv('../input/test.csv', parse_dates=[\"pickup_datetime\"])",
      "execution_count": null,
      "outputs": []
    },
    {
      "metadata": {
        "trusted": true,
        "_uuid": "921ebed536a61e96ad7d8671bb5bab2bd7bc2c51",
        "collapsed": true
      },
      "cell_type": "code",
      "source": "df_test.head()",
      "execution_count": null,
      "outputs": []
    },
    {
      "metadata": {
        "trusted": true,
        "_uuid": "bb157c4d7bd187823828c119a447f7408950d3a1",
        "collapsed": true
      },
      "cell_type": "code",
      "source": "df_test['distance_km'] = df_test.apply(lambda x: distance(x[\"pickup_latitude\"], x[\"pickup_longitude\"], \\\n                                   x[\"dropoff_latitude\"], x[\"dropoff_longitude\"]), axis=1)\n\ndf_test[\"airport\"] = df_test.apply(lambda x: to_airport(x[\"dropoff_latitude\"], x[\"dropoff_longitude\"]), axis=1)\ndf_airport = pd.get_dummies(df_test[\"airport\"])\ndf_test = df_test.join(df_airport)\n\ndf_test['hour'] = df_test[\"pickup_datetime\"].apply(lambda t: t.hour)\ndf_test['year'] = df_test[\"pickup_datetime\"].apply(lambda t: t.year)\ndf_test[\"weekdays\"] = df_test[\"pickup_datetime\"].apply(lambda t: 1 if t.weekday() in range(0,5) else 0)",
      "execution_count": null,
      "outputs": []
    },
    {
      "metadata": {
        "trusted": true,
        "_uuid": "42062dc30d9621b99d88b48b12468b71a5e1c6da",
        "collapsed": true
      },
      "cell_type": "code",
      "source": "filename = './output/baseline_linear'\n\ntest_X = df_test[features].values\ny_pred_final = fare_lm.predict(test_X).round(decimals = 2)\n\n# print(y_pred_final.shape)\n# print(y_pred_final[:10])\n\nsubmission = pd.DataFrame(\n    {'key': df_test.key, 'fare_amount': y_pred_final},\n    columns = ['key', 'fare_amount'])\nsubmission.to_csv('submission.csv', index = False)",
      "execution_count": null,
      "outputs": []
    },
    {
      "metadata": {
        "trusted": true,
        "collapsed": true,
        "_uuid": "7c172655d5fea01eb79925f11503cc7aa6796978"
      },
      "cell_type": "code",
      "source": "",
      "execution_count": null,
      "outputs": []
    },
    {
      "metadata": {
        "trusted": true,
        "collapsed": true,
        "_uuid": "4989d40e29a19e561badc13c60d1a09770908e9b"
      },
      "cell_type": "code",
      "source": "",
      "execution_count": null,
      "outputs": []
    },
    {
      "metadata": {
        "trusted": true,
        "collapsed": true,
        "_uuid": "633942579b1ce26a33ee1bb9a57bac45f28690ac"
      },
      "cell_type": "code",
      "source": "",
      "execution_count": null,
      "outputs": []
    }
  ],
  "metadata": {
    "kernelspec": {
      "display_name": "Python 3",
      "language": "python",
      "name": "python3"
    },
    "language_info": {
      "name": "python",
      "version": "3.6.6",
      "mimetype": "text/x-python",
      "codemirror_mode": {
        "name": "ipython",
        "version": 3
      },
      "pygments_lexer": "ipython3",
      "nbconvert_exporter": "python",
      "file_extension": ".py"
    }
  },
  "nbformat": 4,
  "nbformat_minor": 1
}